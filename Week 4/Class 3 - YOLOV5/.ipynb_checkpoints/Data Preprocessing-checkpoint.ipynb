{
 "cells": [
  {
   "cell_type": "code",
   "execution_count": 1,
   "id": "fc3a10b1",
   "metadata": {},
   "outputs": [],
   "source": [
    "import pandas as pd\n",
    "import numpy as np\n",
    "import shutil"
   ]
  },
  {
   "cell_type": "markdown",
   "id": "8ef3bc7d",
   "metadata": {},
   "source": [
    "## Read and concat both train and test files"
   ]
  },
  {
   "cell_type": "code",
   "execution_count": 3,
   "id": "3f87357a",
   "metadata": {},
   "outputs": [],
   "source": [
    "df = pd.concat([pd.read_csv(\"../train_data.csv\"), pd.read_csv(\"../test_data.csv\")])"
   ]
  },
  {
   "cell_type": "code",
   "execution_count": 5,
   "id": "31c30212",
   "metadata": {},
   "outputs": [],
   "source": [
    "images_dir = \"../car_ims_2/car_ims_2/car_ims/\""
   ]
  },
  {
   "cell_type": "markdown",
   "id": "2e27415e",
   "metadata": {},
   "source": [
    "## We categorize images in 7 classes from 90 classes"
   ]
  },
  {
   "cell_type": "code",
   "execution_count": 6,
   "id": "c1a50606",
   "metadata": {},
   "outputs": [],
   "source": [
    "classes = {\n",
    "    'AM General Hummer SUV 2000' : 0, 'Acura Integra Type R 2001' : 0, \n",
    "    'Acura RL Sedan 2012' : 0, 'Acura TL Sedan 2012' : 0,\n",
    "    'Acura TL Type-S 2008' : 0, 'Acura TSX Sedan 2012' : 0, 'Acura ZDX Hatchback 2012' : 0,\n",
    "    \n",
    "    'Chevrolet Avalanche Crew Cab 2012' : 1,\n",
    "    'Chevrolet Camaro Convertible 2012' : 1, 'Chevrolet Cobalt SS 2010' : 1,\n",
    "    'Chevrolet Corvette Convertible 2012' : 1,\n",
    "    'Chevrolet Corvette Ron Fellows Edition Z06 2007' : 1,\n",
    "    'Chevrolet Corvette ZR1 2012' : 1, 'Chevrolet Express Cargo Van 2007' : 1,\n",
    "    'Chevrolet Express Van 2007' : 1, 'Chevrolet HHR SS 2010' : 1,\n",
    "    'Chevrolet Impala Sedan 2007' : 1,\n",
    "    'Chevrolet Malibu Hybrid Sedan 2010' : 1,\n",
    "    'Chevrolet Malibu Sedan 2007' : 1, 'Chevrolet Monte Carlo Coupe 2007' : 1,\n",
    "    'Chevrolet Silverado 1500 Classic Extended Cab 2007' : 1,\n",
    "    'Chevrolet Silverado 1500 Extended Cab 2012' : 1,\n",
    "    'Chevrolet Silverado 1500 Hybrid Crew Cab 2012' : 1,\n",
    "    'Chevrolet Silverado 1500 Regular Cab 2012' : 1,\n",
    "    'Chevrolet Silverado 2500HD Regular Cab 2012' : 1,\n",
    "    \n",
    "    'Audi 100 Sedan 1994' : 2,\n",
    "    'Audi 100 Wagon 1994' : 2, 'Audi A5 Coupe 2012' : 2, 'Audi R8 Coupe 2012' : 2,\n",
    "    'Audi RS 4 Convertible 2008' : 2, 'Audi S4 Sedan 2007' : 2,\n",
    "    'Audi S4 Sedan 2012' : 2, 'Audi S5 Convertible 2012' : 2,\n",
    "    'Audi S5 Coupe 2012' : 2, 'Audi S6 Sedan 2011' : 2,\n",
    "    'Audi TT Hatchback 2011' : 2, 'Audi TT RS Coupe 2012' : 2,\n",
    "    'Audi TTS Coupe 2012' : 2, 'Audi V8 Sedan 1994' : 2,\n",
    "    \n",
    "    'BMW 1 Series Convertible 2012' : 3, 'BMW 1 Series Coupe 2012' : 3,\n",
    "    'BMW 3 Series Sedan 2012' : 3, 'BMW 3 Series Wagon 2012' : 3,\n",
    "    'BMW 6 Series Convertible 2007' : 3, 'BMW ActiveHybrid 5 Sedan 2012' : 3,\n",
    "    'BMW M3 Coupe 2012' : 3, 'BMW M5 Sedan 2010' : 3,\n",
    "    'BMW M6 Convertible 2010' : 3, 'BMW X3 SUV 2012' : 3, 'BMW X5 SUV 2007' : 3,\n",
    "    'BMW X6 SUV 2012' : 3, 'BMW Z4 Convertible 2012' : 3,\n",
    "    \n",
    "    'Ford E-Series Wagon Van 2012' : 4,\n",
    "    'Ford Edge SUV 2012' : 4, 'Ford Expedition EL SUV 2009' : 4,\n",
    "    'Ford F-150 Regular Cab 2007' : 4, 'Ford F-150 Regular Cab 2012' : 4,\n",
    "    'Ford F-450 Super Duty Crew Cab 2012' : 4, 'Ford Fiesta Sedan 2012' : 4,\n",
    "    'Ford Focus Sedan 2007' : 4, 'Ford Freestar Minivan 2007' : 4,\n",
    "    'Ford GT Coupe 2006' : 4, 'Ford Mustang Convertible 2007' : 4,\n",
    "    'Ford Ranger SuperCab 2011' : 4,\n",
    "    \n",
    "    \n",
    "    'Hyundai Accent Sedan 2012' : 5,\n",
    "    'Hyundai Azera Sedan 2012' : 5, 'Hyundai Elantra Sedan 2007' : 5,\n",
    "    'Hyundai Elantra Touring Hatchback 2012' : 5,\n",
    "    'Hyundai Genesis Sedan 2012' : 5, 'Hyundai Santa Fe SUV 2012' : 5,\n",
    "    'Hyundai Sonata Hybrid Sedan 2012' : 5, 'Hyundai Sonata Sedan 2012' : 5,\n",
    "    'Hyundai Tucson SUV 2012' : 5, 'Hyundai Veloster Hatchback 2012' : 5,\n",
    "    'Hyundai Veracruz SUV 2012' : 5,\n",
    "    \n",
    "    'Dodge Caliber Wagon 2007' : 6,\n",
    "    'Dodge Caliber Wagon 2012' : 6, 'Dodge Caravan Minivan 1997' : 6,\n",
    "    'Dodge Challenger SRT8 2011' : 6, 'Dodge Charger SRT-8 2009' : 6,\n",
    "    'Dodge Charger Sedan 2012' : 6, 'Dodge Dakota Club Cab 2007' : 6,\n",
    "    'Dodge Dakota Crew Cab 2010' : 6, 'Dodge Durango SUV 2007' : 6,\n",
    "    'Dodge Durango SUV 2012': 6, 'Dodge Journey SUV 2012' : 6,\n",
    "    'Dodge Magnum Wagon 2008' : 6, 'Dodge Ram Pickup 3500 Crew Cab 2010' : 6,\n",
    "    'Dodge Ram Pickup 3500 Quad Cab 2009' : 6,\n",
    "    'Dodge Sprinter Cargo Van 2009' : 6\n",
    "}"
   ]
  },
  {
   "cell_type": "code",
   "execution_count": null,
   "id": "a9ef9286",
   "metadata": {},
   "outputs": [],
   "source": [
    "images_list = open(\"E:/files.txt\", \"w\")\n",
    "for i, row in df.iterrows():\n",
    "    if row['class'] in classes:\n",
    "        shutil.copy(images_dir + row['filename'], \"E:/yolov5/\" + row['filename'])\n",
    "        \n",
    "        images_list.write(\"E:/yolov5/\" + row['filename'] + \"\\n\")\n",
    "        \n",
    "        image_width = row['width']\n",
    "        image_height = row['height']\n",
    "        \n",
    "        \n",
    "        center_x = round(((row['xmax'] - row['xmin']) / 2) / image_width, 5)\n",
    "        center_y = round(((row['ymax'] - row['ymin']) / 2) / image_height, 5)\n",
    "        \n",
    "        width = round((row['xmax'] - center_x) / image_width, 5)\n",
    "        height = round((row['ymax'] - center_y) / image_height, 5)\n",
    "        \n",
    "        class_index = classes[row['class']]\n",
    "        \n",
    "        text_filename = row['filename'].replace(\".jpg\", \".txt\")\n",
    "        with open(\"E:/yolov5/\" + text_filename, \"w\") as file:\n",
    "            file.write(f\"{class_index} {center_x} {center_y} {width} {height}\")\n",
    "            \n",
    "images_list.close()"
   ]
  },
  {
   "cell_type": "code",
   "execution_count": null,
   "id": "16c9a53b",
   "metadata": {},
   "outputs": [],
   "source": [
    "labels = [\"Acura\", \"Chevrolet\", \"Audi\", \"BMW\", \"Ford\", \"Hyundai\", \"Dodge\"]"
   ]
  }
 ],
 "metadata": {
  "kernelspec": {
   "display_name": "Python 3",
   "language": "python",
   "name": "python3"
  },
  "language_info": {
   "codemirror_mode": {
    "name": "ipython",
    "version": 3
   },
   "file_extension": ".py",
   "mimetype": "text/x-python",
   "name": "python",
   "nbconvert_exporter": "python",
   "pygments_lexer": "ipython3",
   "version": "3.7.5"
  }
 },
 "nbformat": 4,
 "nbformat_minor": 5
}
