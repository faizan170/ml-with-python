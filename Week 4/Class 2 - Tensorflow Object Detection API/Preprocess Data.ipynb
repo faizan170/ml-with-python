{
 "cells": [
  {
   "cell_type": "code",
   "execution_count": 13,
   "id": "df634766",
   "metadata": {},
   "outputs": [],
   "source": [
    "from scipy.io import loadmat\n",
    "import cv2\n",
    "import shutil\n",
    "import pandas as pd\n",
    "import os\n",
    "\n",
    "images_dir = \"../car_ims_2/car_ims_2/car_ims/\"\n",
    "resp = loadmat(\"../cars_annos.mat\")"
   ]
  },
  {
   "cell_type": "markdown",
   "id": "035e2ae3",
   "metadata": {},
   "source": [
    "### Create list of class names"
   ]
  },
  {
   "cell_type": "code",
   "execution_count": 14,
   "id": "45c9122f",
   "metadata": {},
   "outputs": [],
   "source": [
    "classes = []\n",
    "for class_name in resp.get(\"class_names\")[0]:\n",
    "    classes.append(class_name[0])"
   ]
  },
  {
   "cell_type": "markdown",
   "id": "f69c0905",
   "metadata": {},
   "source": [
    "### Create CSV File\n",
    "\n",
    "We will create a csv file for both train and test dataset and also store images in directories accordingly"
   ]
  },
  {
   "cell_type": "code",
   "execution_count": 19,
   "id": "08d8a5af",
   "metadata": {},
   "outputs": [],
   "source": [
    "def get_data(test_type, directory):\n",
    "    data = []\n",
    "    if not os.path.exists(directory): os.mkdir(directory)\n",
    "    for annot in resp.get(\"annotations\")[0]:\n",
    "        test = int(annot[6][0][0])\n",
    "        if test == test_type: continue\n",
    "\n",
    "\n",
    "        image_name = annot[0][0].split(\"/\")[-1]\n",
    "        image = cv2.imread(images_dir + image_name)\n",
    "        shutil.copy(images_dir + image_name, f\"{directory}/\" + image_name)\n",
    "        h, w, _ = image.shape\n",
    "        xmin = int(annot[1][0][0])\n",
    "        ymin = int(annot[2][0][0])\n",
    "        xmax = int(annot[3][0][0])\n",
    "        ymax = int(annot[4][0][0])\n",
    "        class_name = classes[annot[5][0][0] - 1]\n",
    "\n",
    "        data.append({\n",
    "            'filename' : image_name, \"width\" : w, \"height\" : h, \n",
    "            'class' : class_name,\n",
    "            'xmin' : xmin, 'ymin' : ymin, 'xmax' : xmax, \n",
    "            'ymax' : ymax})\n",
    "        \n",
    "    df = pd.DataFrame(data)\n",
    "    return df"
   ]
  },
  {
   "cell_type": "markdown",
   "id": "95f7eaf9",
   "metadata": {},
   "source": [
    "### Save data\n",
    "save labels for both train and test dataset and also save labels txt file"
   ]
  },
  {
   "cell_type": "code",
   "execution_count": 20,
   "id": "401bd478",
   "metadata": {},
   "outputs": [],
   "source": [
    "# Get train data\n",
    "df = get_data(0, \"train\")\n",
    "df.to_csv(\"train_labels.csv\", index=None)"
   ]
  },
  {
   "cell_type": "code",
   "execution_count": 21,
   "id": "580d3d48",
   "metadata": {},
   "outputs": [],
   "source": [
    "# Get train data\n",
    "df = get_data(1, \"test\")\n",
    "df.to_csv(\"test_labels.csv\", index=None)"
   ]
  },
  {
   "cell_type": "code",
   "execution_count": 22,
   "id": "c9b42da6",
   "metadata": {},
   "outputs": [],
   "source": [
    "with open(\"labels.pbtxt\", \"w\") as file:\n",
    "    for index, cls in enumerate(classes):\n",
    "        row = \"item {\\n\\tid: \" + str(index + 1) + \"\\n\\tname: '\" + cls +\"'\\n}\\n\"\n",
    "        file.write(row)"
   ]
  },
  {
   "cell_type": "code",
   "execution_count": 26,
   "id": "a1239bbb",
   "metadata": {},
   "outputs": [],
   "source": [
    "import json\n",
    "labels = {cls:i + 1 for i, cls in enumerate(classes)}\n",
    "with open('labels.json', \"w\") as file:\n",
    "    json.dump(labels, file)"
   ]
  },
  {
   "cell_type": "code",
   "execution_count": null,
   "id": "1a75cb53",
   "metadata": {},
   "outputs": [],
   "source": []
  },
  {
   "cell_type": "code",
   "execution_count": null,
   "id": "e57b0a16",
   "metadata": {},
   "outputs": [],
   "source": []
  }
 ],
 "metadata": {
  "kernelspec": {
   "display_name": "Python 3",
   "language": "python",
   "name": "python3"
  },
  "language_info": {
   "codemirror_mode": {
    "name": "ipython",
    "version": 3
   },
   "file_extension": ".py",
   "mimetype": "text/x-python",
   "name": "python",
   "nbconvert_exporter": "python",
   "pygments_lexer": "ipython3",
   "version": "3.7.5"
  }
 },
 "nbformat": 4,
 "nbformat_minor": 5
}
